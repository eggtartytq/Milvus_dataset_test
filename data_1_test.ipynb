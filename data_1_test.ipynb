{
 "cells": [
  {
   "cell_type": "code",
   "execution_count": 70,
   "id": "fbc667f4-9400-4a40-ba2e-44d75ca2b674",
   "metadata": {},
   "outputs": [],
   "source": [
    "from pymilvus import connections, utility, MilvusException, FieldSchema, CollectionSchema, DataType, Collection, loading_progress\n",
    "connections.connect(host=\"localhost\", port=\"19530\", db_name='default')"
   ]
  },
  {
   "cell_type": "code",
   "execution_count": 71,
   "id": "5b8a5f1e-dbd1-47a6-aab3-4e9015c70ee1",
   "metadata": {},
   "outputs": [],
   "source": [
    "fields = [\n",
    "    FieldSchema(name=\"Data_Id\", dtype=DataType.INT64, is_primary=True, auto_id=False),\n",
    "    FieldSchema(name=\"Dataset_File\", dtype=DataType.VARCHAR,max_length=255),\n",
    "    FieldSchema(name=\"Collected\", dtype=DataType.VARCHAR,max_length=100),\n",
    "    FieldSchema(name=\"Variable\", dtype=DataType.VARCHAR,max_length=100),\n",
    "    FieldSchema(name=\"Label\", dtype=DataType.VARCHAR,max_length=255),\n",
    "    FieldSchema(name=\"Description\", dtype=DataType.FLOAT_VECTOR, dim=1024),\n",
    "]\n",
    "\n",
    "collection_schema = CollectionSchema(fields, description=\"Example_collection\")\n",
    "\n",
    "doc_data = Collection(\"Milvus_Test\", collection_schema)\n"
   ]
  },
  {
   "cell_type": "code",
   "execution_count": 72,
   "id": "b8481eca-b088-4050-9509-972e735cba3b",
   "metadata": {},
   "outputs": [
    {
     "name": "stdout",
     "output_type": "stream",
     "text": [
      "Index created\n"
     ]
    }
   ],
   "source": [
    "#Index on vector\n",
    "def Create_Index(collection_Name: str, vector_name: str, index_par: dict):\n",
    "    try:\n",
    "        collection = Collection(collection_Name)\n",
    "        collection.create_index(field_name = vector_name, index_params = index_par)\n",
    "    except Exception as e:\n",
    "        print(e)\n",
    "    else:\n",
    "        print(\"Index created\")\n",
    "\n",
    "index_params = {\n",
    "    \"index_type\" : \"IVF_FLAT\",\n",
    "    \"metric_type\" : \"L2\",\n",
    "    \"params\" : {\"nlist\":128}  ,\n",
    "}\n",
    "\n",
    "Create_Index(\"Milvus_Test\", \"Description\", index_params) \n"
   ]
  },
  {
   "cell_type": "code",
   "execution_count": 56,
   "id": "c7302384-699a-4ea1-91f7-3ae12f960220",
   "metadata": {},
   "outputs": [
    {
     "data": {
      "application/vnd.jupyter.widget-view+json": {
       "model_id": "45a87915e50041f696eba87e8f4753bc",
       "version_major": 2,
       "version_minor": 0
      },
      "text/plain": [
       "Fetching 23 files:   0%|          | 0/23 [00:00<?, ?it/s]"
      ]
     },
     "metadata": {},
     "output_type": "display_data"
    },
    {
     "name": "stdout",
     "output_type": "stream",
     "text": [
      "Index(['Dataset File', 'Collected', 'Variable', 'Label', 'Description'], dtype='object')\n",
      "<class 'str'>\n",
      "Have you ever had a Pap smear (a cancer check done during a female exam)?\n"
     ]
    },
    {
     "name": "stderr",
     "output_type": "stream",
     "text": [
      "Inference Embeddings: 100%|██████████████████████████████████████████████████████████████████████████████████████████████████████████████████████████████████████████████████████████| 448/448 [09:04<00:00,  1.22s/it]\n",
      "RPC error: [batch_insert], <ParamError: (code=1, message=Collection field dim is 768, but entities field dim is 5)>, <Time:{'RPC start': '2024-03-21 23:02:50.108098', 'RPC error': '2024-03-21 23:02:50.108098'}>\n"
     ]
    },
    {
     "name": "stdout",
     "output_type": "stream",
     "text": [
      "<ParamError: (code=1, message=Collection field dim is 768, but entities field dim is 5)>\n",
      "插入数据用时为: 0.0009999275207519531秒, 平均一条的插入时间为: 1.3953775059335098e-07\n"
     ]
    }
   ],
   "source": [
    "#insert function \n",
    "#NOT TEST YET\n",
    "def Insert_vector(id_list: list, data_file_list: list, collected_list: list, variable_list: list, label_list: list, embeddings_Description, Collection):\n",
    "    try:\n",
    "        collection = Collection\n",
    " \n",
    "        for id_item, data_file_item, collected_item, variable_item, label_item, embeddings_Description in zip(id_list, data_file_list, collected_list, variable_list, label_list, embeddings_Description):\n",
    "            entities = [[id_item], [data_file_item], [collected_item], [variable_item], [label_item], [embeddings_Description]]\n",
    "            collection.insert(entities)\n",
    "            print(f\"编号{id_item}插入完毕\")\n",
    "        collection.flush()\n",
    " \n",
    "    except Exception as e:\n",
    "        print(e)"
   ]
  },
  {
   "cell_type": "code",
   "execution_count": 75,
   "id": "33b026cf-63c3-47cd-94ae-73967e250bbf",
   "metadata": {},
   "outputs": [
    {
     "data": {
      "application/vnd.jupyter.widget-view+json": {
       "model_id": "7dab2fe0575a49d6a6b5dc1d6ee8cb21",
       "version_major": 2,
       "version_minor": 0
      },
      "text/plain": [
       "Fetching 23 files:   0%|          | 0/23 [00:00<?, ?it/s]"
      ]
     },
     "metadata": {},
     "output_type": "display_data"
    },
    {
     "name": "stdout",
     "output_type": "stream",
     "text": [
      "Index(['Dataset File', 'Collected', 'Variable', 'Label', 'Description'], dtype='object')\n",
      "<class 'str'>\n",
      "Have you ever had a Pap smear (a cancer check done during a female exam)?\n"
     ]
    },
    {
     "name": "stderr",
     "output_type": "stream",
     "text": [
      "Inference Embeddings: 100%|██████████████████████████████████████████████████████████████████████████████████████████████████████████████████████████████████████████████████████████| 448/448 [07:43<00:00,  1.03s/it]\n"
     ]
    },
    {
     "name": "stdout",
     "output_type": "stream",
     "text": [
      "<class 'list'>\n"
     ]
    },
    {
     "name": "stderr",
     "output_type": "stream",
     "text": [
      "RPC error: [batch_insert], <ParamError: (code=1, message=expect string input, got: <class 'float'>)>, <Time:{'RPC start': '2024-03-22 03:13:39.796348', 'RPC error': '2024-03-22 03:13:39.805326'}>\n"
     ]
    },
    {
     "name": "stdout",
     "output_type": "stream",
     "text": [
      "The dimension of the vectors is 1024\n",
      "插入数据时发生错误：<ParamError: (code=1, message=expect string input, got: <class 'float'>)>\n",
      "插入数据用时为: 0.010972261428833008秒, 平均一条的插入时间为: 1.5311556557121137e-06\n",
      "总共有: 7166条数据\n"
     ]
    }
   ],
   "source": [
    "import time\n",
    "import pandas as pd\n",
    "import json\n",
    "\n",
    "from pymilvus import connections, utility, FieldSchema, CollectionSchema, DataType, Collection\n",
    "from pymilvus.model.hybrid import BGEM3EmbeddingFunction\n",
    "\n",
    "bge_m3_ef = BGEM3EmbeddingFunction(\n",
    "    model_name='BAAI/bge-m3', # Specify the model name\n",
    "    device='cpu', # Specify the device to use, e.g., 'cpu' or 'cuda:0'\n",
    "    use_fp16=False # Specify whether to use fp16. Set to `False` if `device` is `cpu`.\n",
    ")\n",
    "\n",
    "Collection_Name = 'Milvus_Test'\n",
    "collection = Collection(Collection_Name)\n",
    "\n",
    "file_path = 'data_1.csv'\n",
    "df = pd.read_csv(file_path)\n",
    "print(df.columns)\n",
    "\n",
    "id_list = df.index.tolist()\n",
    "dataset_file_data = df[\"Dataset File\"].tolist()\n",
    "collected_data = df.Collected.tolist()\n",
    "variable_data = df.Variable.tolist()\n",
    "label_data = df.Label.tolist()\n",
    "\n",
    "df['Description'] = df['Description'].fillna('no description')\n",
    "description_data = df['Description'].tolist()\n",
    "\n",
    "print(type(description_data[100]))\n",
    "print(description_data[100])\n",
    "#embedding\n",
    "Description_embedding = bge_m3_ef.encode_documents(description_data)[\"dense\"]\n",
    "\n",
    "print(type(Description_embedding))\n",
    "#######################################################################################\n",
    "\n",
    "try:\n",
    "    filename = 'embedding_data.json'\n",
    "\n",
    "    with open(filename, 'w') as json_file:\n",
    "        json.dump(Description_embedding, json_file, ensure_ascii = False) \n",
    "        \n",
    "    dimension = len(Description_embedding[0])\n",
    "    \n",
    "    print(f'The dimension of the vectors is {dimension}')\n",
    "except Exception as e:\n",
    "    print(f\"writing error: {e}\")\n",
    "#######################################################################################\n",
    "# d_embed = Description_embedding.tolist()\n",
    "start_time = time.time()\n",
    "try:\n",
    "    insert_data = [id_list, dataset_file_data, collected_data, variable_data, label_data, Description_embedding]\n",
    "    mr = collection.insert(insert_data)\n",
    "    print(f\"成功插入数据，影响的行数：{len(mr.primary_keys)}\")\n",
    "except Exception as e:\n",
    "    print(f\"插入数据时发生错误：{e}\")\n",
    "end_time = time.time()\n",
    "print(f\"插入数据用时为: {end_time - start_time}秒, 平均一条的插入时间为: {(end_time - start_time)/len(id_list)}\")\n",
    "print(f\"总共有: {len(id_list)}条数据\")"
   ]
  },
  {
   "cell_type": "code",
   "execution_count": null,
   "id": "75269077-1d42-4207-af06-07ccbff0ec6c",
   "metadata": {},
   "outputs": [],
   "source": []
  }
 ],
 "metadata": {
  "kernelspec": {
   "display_name": "Python 3 (ipykernel)",
   "language": "python",
   "name": "python3"
  },
  "language_info": {
   "codemirror_mode": {
    "name": "ipython",
    "version": 3
   },
   "file_extension": ".py",
   "mimetype": "text/x-python",
   "name": "python",
   "nbconvert_exporter": "python",
   "pygments_lexer": "ipython3",
   "version": "3.8.2"
  }
 },
 "nbformat": 4,
 "nbformat_minor": 5
}
