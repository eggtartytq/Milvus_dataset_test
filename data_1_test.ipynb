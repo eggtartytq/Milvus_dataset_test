{
 "cells": [
  {
   "cell_type": "code",
   "execution_count": 6,
   "id": "fbc667f4-9400-4a40-ba2e-44d75ca2b674",
   "metadata": {},
   "outputs": [],
   "source": [
    "from pymilvus import connections, utility, MilvusException, FieldSchema, CollectionSchema, DataType, Collection, loading_progress\n",
    "connections.connect(host=\"localhost\", port=\"19530\", db_name='default')"
   ]
  },
  {
   "cell_type": "code",
   "execution_count": 17,
   "id": "5b8a5f1e-dbd1-47a6-aab3-4e9015c70ee1",
   "metadata": {},
   "outputs": [],
   "source": [
    "fields = [\n",
    "    FieldSchema(name=\"Data_Id\", dtype=DataType.INT64, is_primary=True, auto_id=False),\n",
    "    FieldSchema(name=\"Dataset_File\", dtype=DataType.VARCHAR,max_length=255),\n",
    "    FieldSchema(name=\"Collected\", dtype=DataType.VARCHAR,max_length=100),\n",
    "    FieldSchema(name=\"Variable\", dtype=DataType.VARCHAR,max_length=100),\n",
    "    FieldSchema(name=\"Label\", dtype=DataType.VARCHAR,max_length=255),\n",
    "    FieldSchema(name=\"Description\", dtype=DataType.FLOAT_VECTOR, dim=1024),\n",
    "]\n",
    "\n",
    "collection_schema = CollectionSchema(fields, description=\"Example_collection\")\n",
    "\n",
    "doc_data = Collection(\"Milvus_Test_2\", collection_schema)\n"
   ]
  },
  {
   "cell_type": "code",
   "execution_count": 18,
   "id": "b8481eca-b088-4050-9509-972e735cba3b",
   "metadata": {},
   "outputs": [
    {
     "name": "stdout",
     "output_type": "stream",
     "text": [
      "Index created\n"
     ]
    }
   ],
   "source": [
    "#Index on vector\n",
    "def Create_Index(collection_Name: str, vector_name: str, index_par: dict):\n",
    "    try:\n",
    "        collection = Collection(collection_Name)\n",
    "        collection.create_index(field_name = vector_name, index_params = index_par)\n",
    "    except Exception as e:\n",
    "        print(e)\n",
    "    else:\n",
    "        print(\"Index created\")\n",
    "\n",
    "index_params = {\n",
    "    \"index_type\" : \"IVF_FLAT\",\n",
    "    \"metric_type\" : \"L2\",\n",
    "    \"params\" : {\"nlist\":128}  ,\n",
    "}\n",
    "\n",
    "Create_Index(\"Milvus_Test_2\", \"Description\", index_params) \n"
   ]
  },
  {
   "cell_type": "code",
   "execution_count": 19,
   "id": "c7302384-699a-4ea1-91f7-3ae12f960220",
   "metadata": {},
   "outputs": [],
   "source": [
    "#insert function \n",
    "#NOT TEST YET\n",
    "def Insert_vector(id_list: list, data_file_list: list, collected_list: list, variable_list: list, label_list: list, embeddings_Description, Collection):\n",
    "    try:\n",
    "        collection = Collection\n",
    " \n",
    "        for id_item, data_file_item, collected_item, variable_item, label_item, embeddings_Description in zip(id_list, data_file_list, collected_list, variable_list, label_list, embeddings_Description):\n",
    "            entities = [[id_item], [data_file_item], [collected_item], [variable_item], [label_item], [embeddings_Description]]\n",
    "            collection.insert(entities)\n",
    "            print(f\"编号{id_item}插入完毕\")\n",
    "        collection.flush()\n",
    " \n",
    "    except Exception as e:\n",
    "        print(e)"
   ]
  },
  {
   "cell_type": "code",
   "execution_count": 30,
   "id": "d6872c7d-f547-4f01-a5b0-ef4fd66f6511",
   "metadata": {},
   "outputs": [],
   "source": [
    "def Insert_vector2(id_list: list, data_file_list: list, collected_list: list, variable_list: list, label_list: list, embeddings_Description, Collection):\n",
    "    try:\n",
    "        collection = Collection\n",
    " \n",
    "        for id in id_list:\n",
    "            index = id - 1\n",
    "            entities = [[id_list[index]], [data_file_list[index]], [collected_list[index]], [variable_list[index]], [label_list[index]], [embeddings_Description[index]]]\n",
    "            collection.insert(entities)\n",
    "            print(f\"编号{id}插入完毕\")\n",
    "    except Exception as e:\n",
    "        print(e)"
   ]
  },
  {
   "cell_type": "code",
   "execution_count": null,
   "id": "33b026cf-63c3-47cd-94ae-73967e250bbf",
   "metadata": {},
   "outputs": [
    {
     "data": {
      "application/vnd.jupyter.widget-view+json": {
       "model_id": "82972e6fb8c845eca74c43148a570bb7",
       "version_major": 2,
       "version_minor": 0
      },
      "text/plain": [
       "Fetching 23 files:   0%|          | 0/23 [00:00<?, ?it/s]"
      ]
     },
     "metadata": {},
     "output_type": "display_data"
    },
    {
     "name": "stdout",
     "output_type": "stream",
     "text": [
      "Index(['Dataset File', 'Collected', 'Variable', 'Label', 'Description'], dtype='object')\n",
      "list最后一个元素是7166\n"
     ]
    },
    {
     "name": "stderr",
     "output_type": "stream",
     "text": [
      "Inference Embeddings:   1%|█▋                                                                                                                                                          | 5/448 [00:06<09:36,  1.30s/it]"
     ]
    }
   ],
   "source": [
    "import time\n",
    "import pandas as pd\n",
    "import json\n",
    "\n",
    "from pymilvus import connections, utility, FieldSchema, CollectionSchema, DataType, Collection\n",
    "from pymilvus.model.hybrid import BGEM3EmbeddingFunction\n",
    "\n",
    "bge_m3_ef = BGEM3EmbeddingFunction(\n",
    "    model_name='BAAI/bge-m3', # Specify the model name\n",
    "    device='cpu', # Specify the device to use, e.g., 'cpu' or 'cuda:0'\n",
    "    use_fp16=False # Specify whether to use fp16. Set to `False` if `device` is `cpu`.\n",
    ")\n",
    "\n",
    "Collection_Name = 'Milvus_Test_2'\n",
    "collection = Collection(Collection_Name)\n",
    "\n",
    "file_path = 'data_1.csv'\n",
    "df = pd.read_csv(file_path)\n",
    "print(df.columns)\n",
    "\n",
    "id_list = df.index.tolist()\n",
    "id_plus_one = [x + 1 for x in id_list]\n",
    "dataset_file_data = df[\"Dataset File\"].tolist()\n",
    "collected_data = df.Collected.tolist()\n",
    "variable_data = df.Variable.tolist()\n",
    "label_data = df.Label.tolist()\n",
    "\n",
    "df['Description'] = df['Description'].fillna('no description')\n",
    "description_data = df['Description'].tolist()\n",
    "\n",
    "\n",
    "print(f\"list最后一个元素是{id_plus_one[-1]}\")\n",
    "#embedding\n",
    "Description_embedding = bge_m3_ef.encode_documents(description_data)[\"dense\"]\n",
    "\n",
    "print(type(Description_embedding[0][0]))\n",
    "# import ipdb;ipdb.set_trace()\n",
    "\n",
    "# d_embed = Description_embedding.tolist()\n",
    "start_time = time.time()\n",
    "try:\n",
    "    # insert_data = [id_plus_one, dataset_file_data, collected_data, variable_data, label_data, Description_embedding]\n",
    "    Insert_vector2(id_plus_one, dataset_file_data, collected_data, variable_data, label_data, Description_embedding, Collection = collection)\n",
    "    # mr = collection.insert(insert_data)\n",
    "except Exception as e:\n",
    "    print(f\"插入数据时发生错误：{e}\")\n",
    "end_time = time.time()\n",
    "print(f\"插入数据用时为: {end_time - start_time}秒, 平均一条的插入时间为: {(end_time - start_time)/len(id_list)}\")\n",
    "print(f\"总共有: {len(id_list)}条数据\")"
   ]
  },
  {
   "cell_type": "code",
   "execution_count": 29,
   "id": "75269077-1d42-4207-af06-07ccbff0ec6c",
   "metadata": {},
   "outputs": [
    {
     "name": "stdout",
     "output_type": "stream",
     "text": [
      "[{'Collected': 'Baseline', 'Data_Id': 1}]\n"
     ]
    }
   ],
   "source": [
    "#search\n",
    "try:\n",
    "    res = collection.query(\n",
    "        expr = \" Data_Id == 1\",\n",
    "        output_fields=[\"Collected\"]\n",
    "        # collection_name=\"Milvus_Test_2\",\n",
    "        # filter=\"1 < Data_Id < 5\",\n",
    "        # output_fields=[\"Collected\"]\n",
    "    )\n",
    "    \n",
    "    print(res)\n",
    "except Exception as e:\n",
    "    print(f\"插入数据时发生错误：{e}\")    "
   ]
  },
  {
   "cell_type": "code",
   "execution_count": null,
   "id": "e2070580-1b71-4750-b91f-0727042fc7ec",
   "metadata": {},
   "outputs": [],
   "source": []
  }
 ],
 "metadata": {
  "kernelspec": {
   "display_name": "Python 3 (ipykernel)",
   "language": "python",
   "name": "python3"
  },
  "language_info": {
   "codemirror_mode": {
    "name": "ipython",
    "version": 3
   },
   "file_extension": ".py",
   "mimetype": "text/x-python",
   "name": "python",
   "nbconvert_exporter": "python",
   "pygments_lexer": "ipython3",
   "version": "3.8.2"
  }
 },
 "nbformat": 4,
 "nbformat_minor": 5
}
